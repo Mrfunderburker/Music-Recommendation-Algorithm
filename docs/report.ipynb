{
 "cells": [
  {
   "cell_type": "markdown",
   "metadata": {},
   "source": [
    "# Report"
   ]
  },
  {
   "cell_type": "markdown",
   "metadata": {},
   "source": [
    "### 1. Which insights did you gain from your EDA? Were any columns highly correlated? If so, name them.\n",
    "The EDA explored the relationship between music genres and lyrical topics. Hip hop stands out as the genre with the fewest songs in the dataset, likely because it gained popularity more recently compared to others like rock or jazz. Within each genre, a variety of topics appear, but certain themes consistently take the lead. For example, blues is heavily centered on violence and sadness, while country music leans strongly into sadness, followed by world/life themes. Hip hop, on the other hand, is dominated by obscene content—nearly five times more than the next most frequent topic—highlighting how this genre often focuses in on a single theme. Jazz shows a more balanced distribution across topics, but feelings remain a minority theme across all genres. Interestingly, pop and reggae both highlight sadness and violence, while rock echoes a similar trend with violence leading. Over time, hip hop and country are the only genres that seem to be growing in presence, while others like jazz, rock, and blues are declining. Obscene lyrics showed the strongest positive correlation with song length, largely driven by hip hop's fast pace and dense lyricism. Lastly, most artists tend to stick to a single genre—around 5,000 of them while only a small group ventures into multiple genres."
   ]
  },
  {
   "cell_type": "markdown",
   "metadata": {},
   "source": [
    "### 2. How did you determine which columns to drop or keep? If your EDA informed this process, explain which insights you used to determine which columns were not needed. \n",
    "I initially focused on understanding which columns were necessary to retain for meaningful insights and modeling, especially since there wasn’t a clearly defined goal for the project. I noticed that several columns were either repetitive or offered little value toward the overall analysis. For example, both release date and age provided similar information, but age was more straightforward to interpret, so I chose to keep age and drop release date. Similarly, I found that artist names didn’t contribute much analytically, since the majority of artists produced within a single genre. I also removed categorical columns like 'artist_name', 'track_name', 'release_date', 'genre', 'lyrics', 'topic', 'len', as they were not useful for clustering."
   ]
  },
  {
   "cell_type": "markdown",
   "metadata": {},
   "source": [
    "### 3. What was the optimal number of clusters in your cluster model? Explain how you determined this value. \n",
    "I used both the Elbow Method and Silhouette Analysis. In both, they seem to indicate that the optimal number of clusters for this dataset is 11."
   ]
  },
  {
   "cell_type": "markdown",
   "metadata": {},
   "source": [
    "### 4. Take a look at the respective songs that fell into your clusters. Describe these clusters in human terms to the best of your ability using the columns in your dataset (for example high-gospel songs, low-gospel songs, etc). Feel free to listen to these songs as well to get a sense of what nuance your algorithm picked up on.\n",
    "Cluster 1- Night/time songs that were somewhat older\n",
    "\n",
    "Cluster 2- Older songs that were romantic\n",
    "\n",
    "Cluster 3- New songs that were obscene\n",
    "\n",
    "Cluster 4- Older songs that are about world/life\n",
    "\n",
    "Cluster 5- Old songs that are sad\n",
    "\n",
    "Cluster 6- Newer songs that are about world/life\n",
    "\n",
    "Cluster 7- Newer songs that are about violence\n",
    "\n",
    "Cluster 8- Older songs about music\n",
    "\n",
    "Cluster 9- Older songs that are obscene\n",
    "\n",
    "Cluster 10- Older songs that are about violence\n",
    "\n",
    "Cluster 11- Newer songs that are about sadness"
   ]
  },
  {
   "cell_type": "markdown",
   "metadata": {},
   "source": [
    "### 4. Take a look at the clusters that your algorithm assigned to your test samples. Based on these clusters, which songs would you recommend to this user?\n",
    "Cluster 10:\n",
    "\n",
    "pop-\tjerry lee lewis,\tyour cheating heart\n",
    "\n",
    "blues-\ttaste,\trailway and gun"
   ]
  }
 ],
 "metadata": {
  "language_info": {
   "name": "python"
  }
 },
 "nbformat": 4,
 "nbformat_minor": 2
}
