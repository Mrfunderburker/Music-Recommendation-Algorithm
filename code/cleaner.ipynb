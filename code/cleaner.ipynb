{
 "cells": [
  {
   "cell_type": "markdown",
   "metadata": {},
   "source": [
    "# Data Cleaning"
   ]
  },
  {
   "cell_type": "code",
   "execution_count": 20,
   "metadata": {},
   "outputs": [],
   "source": [
    "import pandas as pd"
   ]
  },
  {
   "cell_type": "code",
   "execution_count": 21,
   "metadata": {},
   "outputs": [],
   "source": [
    "df = pd.read_csv(\"/Users/sa10/Downloads/Music-Recommendation-Algorithm/Music-Recommendation-Algorithm/data/train.csv\")"
   ]
  },
  {
   "cell_type": "code",
   "execution_count": 22,
   "metadata": {},
   "outputs": [
    {
     "data": {
      "text/plain": [
       "Unnamed: 0                  0\n",
       "artist_name                 0\n",
       "track_name                  0\n",
       "release_date                0\n",
       "genre                       0\n",
       "lyrics                      0\n",
       "len                         0\n",
       "dating                      0\n",
       "violence                    0\n",
       "world/life                  0\n",
       "night/time                  0\n",
       "shake the audience          0\n",
       "family/gospel               0\n",
       "romantic                    0\n",
       "communication               0\n",
       "obscene                     0\n",
       "music                       0\n",
       "movement/places             0\n",
       "light/visual perceptions    0\n",
       "family/spiritual            0\n",
       "sadness                     0\n",
       "feelings                    0\n",
       "topic                       0\n",
       "age                         0\n",
       "dtype: int64"
      ]
     },
     "execution_count": 22,
     "metadata": {},
     "output_type": "execute_result"
    }
   ],
   "source": [
    "df.isnull().sum()"
   ]
  },
  {
   "cell_type": "code",
   "execution_count": 25,
   "metadata": {},
   "outputs": [
    {
     "data": {
      "text/plain": [
       "Index(['Unnamed: 0', 'release_date', 'len', 'dating', 'violence', 'world/life',\n",
       "       'night/time', 'shake the audience', 'family/gospel', 'romantic',\n",
       "       'communication', 'obscene', 'music', 'movement/places',\n",
       "       'light/visual perceptions', 'family/spiritual', 'sadness', 'feelings',\n",
       "       'age'],\n",
       "      dtype='object')"
      ]
     },
     "execution_count": 25,
     "metadata": {},
     "output_type": "execute_result"
    }
   ],
   "source": [
    "df.select_dtypes(include='number').columns"
   ]
  },
  {
   "cell_type": "code",
   "execution_count": 23,
   "metadata": {},
   "outputs": [
    {
     "name": "stdout",
     "output_type": "stream",
     "text": [
      "<class 'pandas.core.frame.DataFrame'>\n",
      "RangeIndex: 28362 entries, 0 to 28361\n",
      "Data columns (total 16 columns):\n",
      " #   Column                    Non-Null Count  Dtype  \n",
      "---  ------                    --------------  -----  \n",
      " 0   dating                    28362 non-null  float64\n",
      " 1   violence                  28362 non-null  float64\n",
      " 2   world/life                28362 non-null  float64\n",
      " 3   night/time                28362 non-null  float64\n",
      " 4   shake the audience        28362 non-null  float64\n",
      " 5   family/gospel             28362 non-null  float64\n",
      " 6   romantic                  28362 non-null  float64\n",
      " 7   communication             28362 non-null  float64\n",
      " 8   obscene                   28362 non-null  float64\n",
      " 9   music                     28362 non-null  float64\n",
      " 10  movement/places           28362 non-null  float64\n",
      " 11  light/visual perceptions  28362 non-null  float64\n",
      " 12  family/spiritual          28362 non-null  float64\n",
      " 13  sadness                   28362 non-null  float64\n",
      " 14  feelings                  28362 non-null  float64\n",
      " 15  age                       28362 non-null  float64\n",
      "dtypes: float64(16)\n",
      "memory usage: 3.5 MB\n"
     ]
    }
   ],
   "source": [
    "# drop unwanted columns\n",
    "new_df = df.drop(columns=['artist_name', 'track_name', 'release_date', 'genre', 'lyrics', 'topic', 'len', \"Unnamed: 0\"])\n",
    "\n",
    "# display info\n",
    "new_df.info()"
   ]
  },
  {
   "cell_type": "code",
   "execution_count": 26,
   "metadata": {},
   "outputs": [],
   "source": [
    "new_df.to_csv(\"new_df.csv\", index=False)"
   ]
  }
 ],
 "metadata": {
  "kernelspec": {
   "display_name": "base",
   "language": "python",
   "name": "python3"
  },
  "language_info": {
   "codemirror_mode": {
    "name": "ipython",
    "version": 3
   },
   "file_extension": ".py",
   "mimetype": "text/x-python",
   "name": "python",
   "nbconvert_exporter": "python",
   "pygments_lexer": "ipython3",
   "version": "3.12.4"
  }
 },
 "nbformat": 4,
 "nbformat_minor": 2
}
